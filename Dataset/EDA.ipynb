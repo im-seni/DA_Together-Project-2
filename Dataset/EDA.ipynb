{
 "cells": [
  {
   "cell_type": "code",
   "execution_count": 27,
   "metadata": {},
   "outputs": [],
   "source": [
    "import pandas as pd\n",
    "import re"
   ]
  },
  {
   "cell_type": "code",
   "execution_count": 2,
   "metadata": {},
   "outputs": [],
   "source": [
    "df = pd.read_csv('민간일자리정보.csv')\n",
    "df2 = pd.read_csv('일자리포털정보.csv')"
   ]
  },
  {
   "cell_type": "code",
   "execution_count": null,
   "metadata": {},
   "outputs": [],
   "source": [
    "df2.head()"
   ]
  },
  {
   "cell_type": "markdown",
   "metadata": {},
   "source": [
    "**일자리 서비스에서 필요한 컬럼 정리**\n",
    "\n",
    "**--- 기업 및 고용정보 관련 ---**\n",
    "* 종류: 민간 vs 공공\n",
    "* 업종: 각 업종에 따른 필터링 (예: 사무, 회계, IT, 서비스, 미화...)\n",
    "* 직종: 구인정보의 직종.\n",
    "* 직무내용: 구체적인 업무 내용.\n",
    "\n",
    "* 사업장명: 일자리를 제공하는 기관 또는 회사의 이름.\n",
    "* 근무지역: 일자리의 위치. (정확한 위치 표시xx, 동까지만 가능)\n",
    "* 급여: 급여 조건.\n",
    "* 근무시간: 근무 시간대.\n",
    "* 모집인원: 채용 예정인 인원.\n",
    "\n",
    "**--- 지원자격 관련 ---**\n",
    "* 연령: 채용 연령 제한.\n",
    "* 성별: 채용 성별 조건.\n",
    "* 경력조건: 필요한 경력 조건.\n",
    "\n",
    "**--- 지원 ---**\n",
    "* 구인상태: 구인중 vs 구인마감\n",
    "* 접수마감: 지원 마감일.\n",
    "* 지원방법: 지원하는 방법.\n",
    "* 지원서류: 필요한 지원 서류."
   ]
  },
  {
   "cell_type": "markdown",
   "metadata": {},
   "source": [
    "**필수**\n",
    ": 종류, 모집직종, 직무내용, 사업장명, 근무지역, 급여, 근무시간, 채용인원, 연령, 성별, 지원방법"
   ]
  },
  {
   "cell_type": "markdown",
   "metadata": {},
   "source": [
    "**선택**\n",
    ": 종류 (민간 공공 라벨링 잘못 된 것 있음. 사이트 자체가 잘 구분해놓지 않았음.), 업종 (추가해야함?)"
   ]
  },
  {
   "cell_type": "code",
   "execution_count": 7,
   "metadata": {},
   "outputs": [
    {
     "name": "stdout",
     "output_type": "stream",
     "text": [
      "Index(['구인상태', '업체명', '근무지역', '직종', '연령', '성별', '급여', '근무시간', '채용인원', '근무내용',\n",
      "       '지원방법', '지원서류'],\n",
      "      dtype='object')\n",
      "Index(['Unnamed: 0', '구인제목', '사업장명', '업종', '사업내용', '근로자수', '주소', '모집직종',\n",
      "       '모집인원', '학력', '고용형태', '근무예정지', '직무내용', '경력조건', '필요경력', '급여', '평일 근무시간',\n",
      "       '근무형태', '접수마감', '전형방법', '접수방법'],\n",
      "      dtype='object')\n"
     ]
    }
   ],
   "source": [
    "print(df.columns)\n",
    "print(df2.columns)"
   ]
  },
  {
   "cell_type": "code",
   "execution_count": 9,
   "metadata": {},
   "outputs": [],
   "source": [
    "# 컬럼 정리 \n",
    "df.rename(columns={'업체명': '사업장명'}, inplace=True)\n",
    "df['업종'] = None  # 추후 세분화하여 업데이트 가능\n",
    "\n",
    "df['종류'] = df.apply(\n",
    "    lambda row: '공공' if '공공' in str(row['직종']) or '공공' in str(row['근무내용']) else '민간', \n",
    "    axis=1\n",
    ")"
   ]
  },
  {
   "cell_type": "code",
   "execution_count": 32,
   "metadata": {},
   "outputs": [],
   "source": [
    "df['접수마감'] = '모집 완료 시 마감'"
   ]
  },
  {
   "cell_type": "code",
   "execution_count": 21,
   "metadata": {},
   "outputs": [],
   "source": [
    "df['구인제목'] = df['근무지역'] + ' ' + df['직종'] + ' 모집'"
   ]
  },
  {
   "cell_type": "code",
   "execution_count": null,
   "metadata": {},
   "outputs": [],
   "source": [
    "# 의미 없는 데이터 삭제 예: '근무내용'이 불충분한 데이터 제거\n",
    "print(len(df))\n",
    "\n",
    "df.dropna(subset=['근무내용'], inplace=True)  # '근무내용' 컬럼에서 NaN 값을 가진 행을 삭제\n",
    "df = df[df['근무내용'] != '']  # '근무내용'이 비어 있는 행을 삭제\n",
    "df = df[df.apply(lambda row: sum(row == '상세내용 참고'), axis=1) < 3]\n",
    "\n",
    "# DataFrame 최종 결과 출력\n",
    "print(len(df))"
   ]
  },
  {
   "cell_type": "code",
   "execution_count": 28,
   "metadata": {},
   "outputs": [
    {
     "data": {
      "text/html": [
       "<div>\n",
       "<style scoped>\n",
       "    .dataframe tbody tr th:only-of-type {\n",
       "        vertical-align: middle;\n",
       "    }\n",
       "\n",
       "    .dataframe tbody tr th {\n",
       "        vertical-align: top;\n",
       "    }\n",
       "\n",
       "    .dataframe thead th {\n",
       "        text-align: right;\n",
       "    }\n",
       "</style>\n",
       "<table border=\"1\" class=\"dataframe\">\n",
       "  <thead>\n",
       "    <tr style=\"text-align: right;\">\n",
       "      <th></th>\n",
       "      <th>구인상태</th>\n",
       "      <th>사업장명</th>\n",
       "      <th>근무지역</th>\n",
       "      <th>직종</th>\n",
       "      <th>연령</th>\n",
       "      <th>성별</th>\n",
       "      <th>급여</th>\n",
       "      <th>근무시간</th>\n",
       "      <th>채용인원</th>\n",
       "      <th>근무내용</th>\n",
       "      <th>지원방법</th>\n",
       "      <th>지원서류</th>\n",
       "      <th>업종</th>\n",
       "      <th>종류</th>\n",
       "      <th>구인제목</th>\n",
       "      <th>근무형태</th>\n",
       "    </tr>\n",
       "  </thead>\n",
       "  <tbody>\n",
       "    <tr>\n",
       "      <th>0</th>\n",
       "      <td>구인중</td>\n",
       "      <td>비티엠써비스(주)</td>\n",
       "      <td>성동구 성수동</td>\n",
       "      <td>건물 시설기사</td>\n",
       "      <td>~65세</td>\n",
       "      <td>남</td>\n",
       "      <td>월260만원</td>\n",
       "      <td>None</td>\n",
       "      <td>1명</td>\n",
       "      <td>&lt;비티엠써비스(주)&gt;건물 시설기사 1명*성수동 서울M타워 시설기사 업무*경력 3년 ...</td>\n",
       "      <td>*상담사 알선 02-6220-8640</td>\n",
       "      <td>NaN</td>\n",
       "      <td>None</td>\n",
       "      <td>민간</td>\n",
       "      <td>성동구 성수동 건물 시설기사 모집</td>\n",
       "      <td>None</td>\n",
       "    </tr>\n",
       "    <tr>\n",
       "      <th>1</th>\n",
       "      <td>구인중</td>\n",
       "      <td>위한씨엠(주)</td>\n",
       "      <td>동대문구 제기동</td>\n",
       "      <td>병원 청소원</td>\n",
       "      <td>무관</td>\n",
       "      <td>여</td>\n",
       "      <td>월147만원</td>\n",
       "      <td>12:00~17:00</td>\n",
       "      <td>1명</td>\n",
       "      <td>&lt;위한씨엠(주)&gt;병원 청소원 1명*제기동역 인근 동대문날개병원 청소*월147만원*평...</td>\n",
       "      <td>*상담사 알선 02-6220-8640</td>\n",
       "      <td>NaN</td>\n",
       "      <td>None</td>\n",
       "      <td>민간</td>\n",
       "      <td>동대문구 제기동 병원 청소원 모집</td>\n",
       "      <td>None</td>\n",
       "    </tr>\n",
       "    <tr>\n",
       "      <th>2</th>\n",
       "      <td>구인중</td>\n",
       "      <td>효성렌트카 주식회사</td>\n",
       "      <td>구로구 구로동</td>\n",
       "      <td>렌트카 배차 및 회차 직원</td>\n",
       "      <td>~70세</td>\n",
       "      <td>남</td>\n",
       "      <td>월245만원</td>\n",
       "      <td>07:00~19:00</td>\n",
       "      <td>2명</td>\n",
       "      <td>&lt;효성렌트카 주식회사&gt;렌트카 배차 및 회차업무 사원 2명차량운전 및 관리, 차량배차...</td>\n",
       "      <td>*상담사 알선 02-6220-8640</td>\n",
       "      <td>NaN</td>\n",
       "      <td>None</td>\n",
       "      <td>민간</td>\n",
       "      <td>구로구 구로동 렌트카 배차 및 회차 직원 모집</td>\n",
       "      <td>주6일</td>\n",
       "    </tr>\n",
       "    <tr>\n",
       "      <th>3</th>\n",
       "      <td>구인중</td>\n",
       "      <td>강남시니어클럽</td>\n",
       "      <td>서울지역</td>\n",
       "      <td>카드배송원</td>\n",
       "      <td>만 60세 이상(만 65세 이상 우대)</td>\n",
       "      <td>무관</td>\n",
       "      <td>월50만원 이상</td>\n",
       "      <td>09:00~15:00</td>\n",
       "      <td>00명</td>\n",
       "      <td>업무내용: 도보를 이용하여 소화물(카드 등)을 배달하는 업무.* 참여조건1. 만 6...</td>\n",
       "      <td>02-547-8866 서울강남시니어클럽</td>\n",
       "      <td>NaN</td>\n",
       "      <td>None</td>\n",
       "      <td>민간</td>\n",
       "      <td>서울지역 카드배송원 모집</td>\n",
       "      <td>주5일</td>\n",
       "    </tr>\n",
       "    <tr>\n",
       "      <th>4</th>\n",
       "      <td>구인중</td>\n",
       "      <td>제이앤비이에스</td>\n",
       "      <td>강남구 역삼동/삼성동/논현동</td>\n",
       "      <td>가정방문 도시가스 점검원</td>\n",
       "      <td>~60세</td>\n",
       "      <td>여</td>\n",
       "      <td>월220만원</td>\n",
       "      <td>None</td>\n",
       "      <td>2명</td>\n",
       "      <td>&lt;제이앤비이에스&gt;가정방문 도시가스 점검원 2명강남구 역삼동, 삼성, 논현 인근 가정...</td>\n",
       "      <td>*상담사 알선 02-6220-8640</td>\n",
       "      <td>NaN</td>\n",
       "      <td>None</td>\n",
       "      <td>민간</td>\n",
       "      <td>강남구 역삼동/삼성동/논현동 가정방문 도시가스 점검원 모집</td>\n",
       "      <td>주5일</td>\n",
       "    </tr>\n",
       "  </tbody>\n",
       "</table>\n",
       "</div>"
      ],
      "text/plain": [
       "  구인상태        사업장명             근무지역              직종                     연령  \\\n",
       "0  구인중   비티엠써비스(주)          성동구 성수동         건물 시설기사                   ~65세   \n",
       "1  구인중     위한씨엠(주)         동대문구 제기동          병원 청소원                     무관   \n",
       "2  구인중  효성렌트카 주식회사          구로구 구로동  렌트카 배차 및 회차 직원                   ~70세   \n",
       "3  구인중     강남시니어클럽             서울지역           카드배송원  만 60세 이상(만 65세 이상 우대)   \n",
       "4  구인중     제이앤비이에스  강남구 역삼동/삼성동/논현동   가정방문 도시가스 점검원                   ~60세   \n",
       "\n",
       "   성별        급여         근무시간 채용인원  \\\n",
       "0   남    월260만원         None   1명   \n",
       "1   여    월147만원  12:00~17:00   1명   \n",
       "2   남    월245만원  07:00~19:00   2명   \n",
       "3  무관  월50만원 이상  09:00~15:00  00명   \n",
       "4   여    월220만원         None   2명   \n",
       "\n",
       "                                                근무내용                   지원방법  \\\n",
       "0  <비티엠써비스(주)>건물 시설기사 1명*성수동 서울M타워 시설기사 업무*경력 3년 ...   *상담사 알선 02-6220-8640   \n",
       "1  <위한씨엠(주)>병원 청소원 1명*제기동역 인근 동대문날개병원 청소*월147만원*평...   *상담사 알선 02-6220-8640   \n",
       "2  <효성렌트카 주식회사>렌트카 배차 및 회차업무 사원 2명차량운전 및 관리, 차량배차...   *상담사 알선 02-6220-8640   \n",
       "3  업무내용: 도보를 이용하여 소화물(카드 등)을 배달하는 업무.* 참여조건1. 만 6...  02-547-8866 서울강남시니어클럽   \n",
       "4  <제이앤비이에스>가정방문 도시가스 점검원 2명강남구 역삼동, 삼성, 논현 인근 가정...   *상담사 알선 02-6220-8640   \n",
       "\n",
       "  지원서류    업종  종류                              구인제목  근무형태  \n",
       "0  NaN  None  민간                성동구 성수동 건물 시설기사 모집  None  \n",
       "1  NaN  None  민간                동대문구 제기동 병원 청소원 모집  None  \n",
       "2  NaN  None  민간         구로구 구로동 렌트카 배차 및 회차 직원 모집   주6일  \n",
       "3  NaN  None  민간                     서울지역 카드배송원 모집   주5일  \n",
       "4  NaN  None  민간  강남구 역삼동/삼성동/논현동 가정방문 도시가스 점검원 모집   주5일  "
      ]
     },
     "execution_count": 28,
     "metadata": {},
     "output_type": "execute_result"
    }
   ],
   "source": [
    "### 데이터 분리 - 근무시간, 경력조건 등 \n",
    "\n",
    "# 근무형태와 근무시간 추출 함수\n",
    "def extract_work_schedule(schedule):\n",
    "    work_type = re.search(r'(주\\d일|격일)', schedule)\n",
    "    work_hours = re.search(r'(\\d{2}:\\d{2}~\\d{2}:\\d{2})', schedule)\n",
    "    \n",
    "    return (\n",
    "        work_type.group(0) if work_type else None,\n",
    "        work_hours.group(0) if work_hours else None\n",
    "    )\n",
    "\n",
    "# 새 컬럼 생성\n",
    "df['근무형태'], df['근무시간'] = zip(*df['근무시간'].apply(extract_work_schedule))\n",
    "\n",
    "df.head()"
   ]
  },
  {
   "cell_type": "code",
   "execution_count": 33,
   "metadata": {},
   "outputs": [
    {
     "data": {
      "text/html": [
       "<div>\n",
       "<style scoped>\n",
       "    .dataframe tbody tr th:only-of-type {\n",
       "        vertical-align: middle;\n",
       "    }\n",
       "\n",
       "    .dataframe tbody tr th {\n",
       "        vertical-align: top;\n",
       "    }\n",
       "\n",
       "    .dataframe thead th {\n",
       "        text-align: right;\n",
       "    }\n",
       "</style>\n",
       "<table border=\"1\" class=\"dataframe\">\n",
       "  <thead>\n",
       "    <tr style=\"text-align: right;\">\n",
       "      <th></th>\n",
       "      <th>구인상태</th>\n",
       "      <th>사업장명</th>\n",
       "      <th>근무지역</th>\n",
       "      <th>직종</th>\n",
       "      <th>연령</th>\n",
       "      <th>성별</th>\n",
       "      <th>급여</th>\n",
       "      <th>근무시간</th>\n",
       "      <th>채용인원</th>\n",
       "      <th>근무내용</th>\n",
       "      <th>지원방법</th>\n",
       "      <th>지원서류</th>\n",
       "      <th>업종</th>\n",
       "      <th>종류</th>\n",
       "      <th>구인제목</th>\n",
       "      <th>근무형태</th>\n",
       "      <th>경력조건</th>\n",
       "      <th>접수마감</th>\n",
       "    </tr>\n",
       "  </thead>\n",
       "  <tbody>\n",
       "    <tr>\n",
       "      <th>0</th>\n",
       "      <td>구인중</td>\n",
       "      <td>비티엠써비스(주)</td>\n",
       "      <td>성동구 성수동</td>\n",
       "      <td>건물 시설기사</td>\n",
       "      <td>~65세</td>\n",
       "      <td>남</td>\n",
       "      <td>월260만원</td>\n",
       "      <td>None</td>\n",
       "      <td>1명</td>\n",
       "      <td>&lt;비티엠써비스(주)&gt;건물 시설기사 1명*성수동 서울M타워 시설기사 업무*경력 3년 ...</td>\n",
       "      <td>*상담사 알선 02-6220-8640</td>\n",
       "      <td>NaN</td>\n",
       "      <td>None</td>\n",
       "      <td>민간</td>\n",
       "      <td>성동구 성수동 건물 시설기사 모집</td>\n",
       "      <td>None</td>\n",
       "      <td>경력</td>\n",
       "      <td>모집 완료 시 마감</td>\n",
       "    </tr>\n",
       "    <tr>\n",
       "      <th>1</th>\n",
       "      <td>구인중</td>\n",
       "      <td>위한씨엠(주)</td>\n",
       "      <td>동대문구 제기동</td>\n",
       "      <td>병원 청소원</td>\n",
       "      <td>무관</td>\n",
       "      <td>여</td>\n",
       "      <td>월147만원</td>\n",
       "      <td>12:00~17:00</td>\n",
       "      <td>1명</td>\n",
       "      <td>&lt;위한씨엠(주)&gt;병원 청소원 1명*제기동역 인근 동대문날개병원 청소*월147만원*평...</td>\n",
       "      <td>*상담사 알선 02-6220-8640</td>\n",
       "      <td>NaN</td>\n",
       "      <td>None</td>\n",
       "      <td>민간</td>\n",
       "      <td>동대문구 제기동 병원 청소원 모집</td>\n",
       "      <td>None</td>\n",
       "      <td>무관</td>\n",
       "      <td>모집 완료 시 마감</td>\n",
       "    </tr>\n",
       "    <tr>\n",
       "      <th>2</th>\n",
       "      <td>구인중</td>\n",
       "      <td>효성렌트카 주식회사</td>\n",
       "      <td>구로구 구로동</td>\n",
       "      <td>렌트카 배차 및 회차 직원</td>\n",
       "      <td>~70세</td>\n",
       "      <td>남</td>\n",
       "      <td>월245만원</td>\n",
       "      <td>07:00~19:00</td>\n",
       "      <td>2명</td>\n",
       "      <td>&lt;효성렌트카 주식회사&gt;렌트카 배차 및 회차업무 사원 2명차량운전 및 관리, 차량배차...</td>\n",
       "      <td>*상담사 알선 02-6220-8640</td>\n",
       "      <td>NaN</td>\n",
       "      <td>None</td>\n",
       "      <td>민간</td>\n",
       "      <td>구로구 구로동 렌트카 배차 및 회차 직원 모집</td>\n",
       "      <td>주6일</td>\n",
       "      <td>무관</td>\n",
       "      <td>모집 완료 시 마감</td>\n",
       "    </tr>\n",
       "    <tr>\n",
       "      <th>3</th>\n",
       "      <td>구인중</td>\n",
       "      <td>강남시니어클럽</td>\n",
       "      <td>서울지역</td>\n",
       "      <td>카드배송원</td>\n",
       "      <td>만 60세 이상(만 65세 이상 우대)</td>\n",
       "      <td>무관</td>\n",
       "      <td>월50만원 이상</td>\n",
       "      <td>09:00~15:00</td>\n",
       "      <td>00명</td>\n",
       "      <td>업무내용: 도보를 이용하여 소화물(카드 등)을 배달하는 업무.* 참여조건1. 만 6...</td>\n",
       "      <td>02-547-8866 서울강남시니어클럽</td>\n",
       "      <td>NaN</td>\n",
       "      <td>None</td>\n",
       "      <td>민간</td>\n",
       "      <td>서울지역 카드배송원 모집</td>\n",
       "      <td>주5일</td>\n",
       "      <td>무관</td>\n",
       "      <td>모집 완료 시 마감</td>\n",
       "    </tr>\n",
       "    <tr>\n",
       "      <th>4</th>\n",
       "      <td>구인중</td>\n",
       "      <td>제이앤비이에스</td>\n",
       "      <td>강남구 역삼동/삼성동/논현동</td>\n",
       "      <td>가정방문 도시가스 점검원</td>\n",
       "      <td>~60세</td>\n",
       "      <td>여</td>\n",
       "      <td>월220만원</td>\n",
       "      <td>None</td>\n",
       "      <td>2명</td>\n",
       "      <td>&lt;제이앤비이에스&gt;가정방문 도시가스 점검원 2명강남구 역삼동, 삼성, 논현 인근 가정...</td>\n",
       "      <td>*상담사 알선 02-6220-8640</td>\n",
       "      <td>NaN</td>\n",
       "      <td>None</td>\n",
       "      <td>민간</td>\n",
       "      <td>강남구 역삼동/삼성동/논현동 가정방문 도시가스 점검원 모집</td>\n",
       "      <td>주5일</td>\n",
       "      <td>무관</td>\n",
       "      <td>모집 완료 시 마감</td>\n",
       "    </tr>\n",
       "  </tbody>\n",
       "</table>\n",
       "</div>"
      ],
      "text/plain": [
       "  구인상태        사업장명             근무지역              직종                     연령  \\\n",
       "0  구인중   비티엠써비스(주)          성동구 성수동         건물 시설기사                   ~65세   \n",
       "1  구인중     위한씨엠(주)         동대문구 제기동          병원 청소원                     무관   \n",
       "2  구인중  효성렌트카 주식회사          구로구 구로동  렌트카 배차 및 회차 직원                   ~70세   \n",
       "3  구인중     강남시니어클럽             서울지역           카드배송원  만 60세 이상(만 65세 이상 우대)   \n",
       "4  구인중     제이앤비이에스  강남구 역삼동/삼성동/논현동   가정방문 도시가스 점검원                   ~60세   \n",
       "\n",
       "   성별        급여         근무시간 채용인원  \\\n",
       "0   남    월260만원         None   1명   \n",
       "1   여    월147만원  12:00~17:00   1명   \n",
       "2   남    월245만원  07:00~19:00   2명   \n",
       "3  무관  월50만원 이상  09:00~15:00  00명   \n",
       "4   여    월220만원         None   2명   \n",
       "\n",
       "                                                근무내용                   지원방법  \\\n",
       "0  <비티엠써비스(주)>건물 시설기사 1명*성수동 서울M타워 시설기사 업무*경력 3년 ...   *상담사 알선 02-6220-8640   \n",
       "1  <위한씨엠(주)>병원 청소원 1명*제기동역 인근 동대문날개병원 청소*월147만원*평...   *상담사 알선 02-6220-8640   \n",
       "2  <효성렌트카 주식회사>렌트카 배차 및 회차업무 사원 2명차량운전 및 관리, 차량배차...   *상담사 알선 02-6220-8640   \n",
       "3  업무내용: 도보를 이용하여 소화물(카드 등)을 배달하는 업무.* 참여조건1. 만 6...  02-547-8866 서울강남시니어클럽   \n",
       "4  <제이앤비이에스>가정방문 도시가스 점검원 2명강남구 역삼동, 삼성, 논현 인근 가정...   *상담사 알선 02-6220-8640   \n",
       "\n",
       "  지원서류    업종  종류                              구인제목  근무형태 경력조건        접수마감  \n",
       "0  NaN  None  민간                성동구 성수동 건물 시설기사 모집  None   경력  모집 완료 시 마감  \n",
       "1  NaN  None  민간                동대문구 제기동 병원 청소원 모집  None   무관  모집 완료 시 마감  \n",
       "2  NaN  None  민간         구로구 구로동 렌트카 배차 및 회차 직원 모집   주6일   무관  모집 완료 시 마감  \n",
       "3  NaN  None  민간                     서울지역 카드배송원 모집   주5일   무관  모집 완료 시 마감  \n",
       "4  NaN  None  민간  강남구 역삼동/삼성동/논현동 가정방문 도시가스 점검원 모집   주5일   무관  모집 완료 시 마감  "
      ]
     },
     "execution_count": 33,
     "metadata": {},
     "output_type": "execute_result"
    }
   ],
   "source": [
    "# 경력 조건 추출 함수\n",
    "def extract_career_condition(text):\n",
    "    # \"경력 필수\" 또는 \"경력 2년 이상\" 등의 표현 찾기\n",
    "    if re.search(r'경력 필수|경력 \\d+년', text):\n",
    "        return '경력'\n",
    "    return '무관'\n",
    "\n",
    "# '경력조건' 컬럼 생성\n",
    "df['경력조건'] = df['근무내용'].apply(extract_career_condition)\n",
    "\n",
    "# 결과 출력\n",
    "df.head()"
   ]
  },
  {
   "cell_type": "code",
   "execution_count": 34,
   "metadata": {},
   "outputs": [
    {
     "data": {
      "text/plain": [
       "Index(['구인상태', '사업장명', '근무지역', '직종', '연령', '성별', '급여', '근무시간', '채용인원', '근무내용',\n",
       "       '지원방법', '지원서류', '업종', '종류', '구인제목', '근무형태', '경력조건', '접수마감'],\n",
       "      dtype='object')"
      ]
     },
     "execution_count": 34,
     "metadata": {},
     "output_type": "execute_result"
    }
   ],
   "source": [
    "df.columns"
   ]
  },
  {
   "cell_type": "code",
   "execution_count": 35,
   "metadata": {},
   "outputs": [
    {
     "data": {
      "text/plain": [
       "Index(['Unnamed: 0', '구인제목', '사업장명', '업종', '사업내용', '근로자수', '주소', '모집직종',\n",
       "       '모집인원', '학력', '고용형태', '근무예정지', '직무내용', '경력조건', '필요경력', '급여', '평일 근무시간',\n",
       "       '근무형태', '접수마감', '전형방법', '접수방법'],\n",
       "      dtype='object')"
      ]
     },
     "execution_count": 35,
     "metadata": {},
     "output_type": "execute_result"
    }
   ],
   "source": [
    "df2.columns"
   ]
  },
  {
   "cell_type": "code",
   "execution_count": 36,
   "metadata": {},
   "outputs": [],
   "source": [
    "df2.drop(['Unnamed: 0', '사업내용', '근로자수', '주소', '학력', '고용형태'], axis=1, inplace=True)\n",
    "\n",
    "df2.rename(columns={\n",
    "    '모집직종': '직종',\n",
    "    '모집인원': '채용인원',\n",
    "    '근무예정지': '근무지역',\n",
    "    '직무내용': '근무내용',\n",
    "    '평일 근무시간': '근무시간',\n",
    "    '접수방법': '지원방법',\n",
    "}, inplace=True)"
   ]
  },
  {
   "cell_type": "code",
   "execution_count": 37,
   "metadata": {},
   "outputs": [
    {
     "data": {
      "text/plain": [
       "Index(['구인제목', '사업장명', '업종', '직종', '채용인원', '근무지역', '근무내용', '경력조건', '필요경력',\n",
       "       '급여', '근무시간', '근무형태', '접수마감', '전형방법', '지원방법'],\n",
       "      dtype='object')"
      ]
     },
     "execution_count": 37,
     "metadata": {},
     "output_type": "execute_result"
    }
   ],
   "source": [
    "df2.columns"
   ]
  },
  {
   "cell_type": "code",
   "execution_count": 38,
   "metadata": {},
   "outputs": [
    {
     "data": {
      "text/html": [
       "<div>\n",
       "<style scoped>\n",
       "    .dataframe tbody tr th:only-of-type {\n",
       "        vertical-align: middle;\n",
       "    }\n",
       "\n",
       "    .dataframe tbody tr th {\n",
       "        vertical-align: top;\n",
       "    }\n",
       "\n",
       "    .dataframe thead th {\n",
       "        text-align: right;\n",
       "    }\n",
       "</style>\n",
       "<table border=\"1\" class=\"dataframe\">\n",
       "  <thead>\n",
       "    <tr style=\"text-align: right;\">\n",
       "      <th></th>\n",
       "      <th>구인제목</th>\n",
       "      <th>사업장명</th>\n",
       "      <th>업종</th>\n",
       "      <th>직종</th>\n",
       "      <th>채용인원</th>\n",
       "      <th>근무지역</th>\n",
       "      <th>근무내용</th>\n",
       "      <th>경력조건</th>\n",
       "      <th>필요경력</th>\n",
       "      <th>급여</th>\n",
       "      <th>근무시간</th>\n",
       "      <th>근무형태</th>\n",
       "      <th>접수마감</th>\n",
       "      <th>전형방법</th>\n",
       "      <th>지원방법</th>\n",
       "    </tr>\n",
       "  </thead>\n",
       "  <tbody>\n",
       "    <tr>\n",
       "      <th>0</th>\n",
       "      <td>강남구립 역삼노인요양센터 직원(사회복지사) 채용 공고</td>\n",
       "      <td>구립 역삼노인복지센터 부설 역삼노인요양센터</td>\n",
       "      <td>사회복지</td>\n",
       "      <td>사회복지사</td>\n",
       "      <td>1명</td>\n",
       "      <td>서울특별시 강남구 도곡로27길 27  (역삼동) 역삼노인요양센터</td>\n",
       "      <td>이용 어르신 관리 및 상담, 장기요양수가 청구, 프로그램 진행 등 장기요양시설 사회...</td>\n",
       "      <td>무관</td>\n",
       "      <td>NaN</td>\n",
       "      <td>(월급) 220만원</td>\n",
       "      <td>09:00~18:00</td>\n",
       "      <td>주간</td>\n",
       "      <td>2024.05.07</td>\n",
       "      <td>서류 ,면접</td>\n",
       "      <td>온라인,방문,우편,팩스,기타( 이메일 지원 yssenior@hanmail.net )</td>\n",
       "    </tr>\n",
       "    <tr>\n",
       "      <th>1</th>\n",
       "      <td>[제2024-23호] 시립은평의마을 직원 채용 공고(계약직 생활복지사)(’24.5....</td>\n",
       "      <td>서울특별시립은평의마을</td>\n",
       "      <td>사회복지</td>\n",
       "      <td>사회복지사(사회복지시설)</td>\n",
       "      <td>1명</td>\n",
       "      <td>서울특별시 은평구 갈현로15길 27 -1 (구산동) 은평의마을</td>\n",
       "      <td>프로그램, 상담, 사무업무 등\\n\\r\\n*근무시간/스케줄에 따라 4교대\\r\\nA조-...</td>\n",
       "      <td>무관</td>\n",
       "      <td>NaN</td>\n",
       "      <td>(월급) 234만원</td>\n",
       "      <td>채용공고문 참조</td>\n",
       "      <td>3교대</td>\n",
       "      <td>2024.05.16</td>\n",
       "      <td>서류 ,면접 ,신체검사</td>\n",
       "      <td>기타( 채용공고문 확인 후 우편 또는 이메일 접수((hjpark119@bizmeka...</td>\n",
       "    </tr>\n",
       "    <tr>\n",
       "      <th>2</th>\n",
       "      <td>연장반(영아) 교사 모집</td>\n",
       "      <td>국공립 동화어린이집</td>\n",
       "      <td>사회복지</td>\n",
       "      <td>보육 교사</td>\n",
       "      <td>1명</td>\n",
       "      <td>서울특별시 중구 청구로 64  (신당동) 106동 1층 동화어린이집</td>\n",
       "      <td>안녕하십니까! 국공립 동화어린이집입니다. 본 어린이집에서는 영유아를 존중하고 사랑하...</td>\n",
       "      <td>무관</td>\n",
       "      <td>NaN</td>\n",
       "      <td>(월급) 106만원\\r\\n\\t\\t\\t\\t\\t\\t\\t\\t\\r\\n\\t\\t\\t\\t\\t\\t...</td>\n",
       "      <td>15:00~19:30</td>\n",
       "      <td>주간</td>\n",
       "      <td>채용시까지(2개월이내)</td>\n",
       "      <td>서류 ,면접</td>\n",
       "      <td>전자우편,기타( 이메일   donghwa2234@naver.com )</td>\n",
       "    </tr>\n",
       "    <tr>\n",
       "      <th>3</th>\n",
       "      <td>[원효로3가] 영아반 연장보육 전담교사 모집</td>\n",
       "      <td>원효어린이집</td>\n",
       "      <td>사회복지</td>\n",
       "      <td>보육 교사</td>\n",
       "      <td>1명</td>\n",
       "      <td>서울특별시 용산구 원효로41가길 14 -19 (원효로3가) (원효로3가)</td>\n",
       "      <td>[영아반 연장보육 전담교사 모집 ]\\n\\r\\n- 직무 : 야간연장 교사와 함께 영아...</td>\n",
       "      <td>무관</td>\n",
       "      <td>NaN</td>\n",
       "      <td>(월급) 106만원</td>\n",
       "      <td>15:00~19:30</td>\n",
       "      <td>주간</td>\n",
       "      <td>채용시까지(2개월이내)</td>\n",
       "      <td>서류 ,면접</td>\n",
       "      <td>전자우편</td>\n",
       "    </tr>\n",
       "    <tr>\n",
       "      <th>4</th>\n",
       "      <td>(재공고) 서대문구 서울형 키즈카페 북가좌1동점 종사자 채용 공고</td>\n",
       "      <td>가좌제일교회</td>\n",
       "      <td>사회복지</td>\n",
       "      <td>기타 사회복지 종사원</td>\n",
       "      <td>1명</td>\n",
       "      <td>서울특별시 서대문구 수색로8길 48 -4 (북가좌동) 3층 키즈카페</td>\n",
       "      <td>서울형 키즈카페 북가좌1동점 운영요원 1명 채용 \\r\\n- 시설 예산 집행 및 이용...</td>\n",
       "      <td>무관</td>\n",
       "      <td>NaN</td>\n",
       "      <td>(최소연봉) 2500만원</td>\n",
       "      <td>9:00~18:00</td>\n",
       "      <td>주간</td>\n",
       "      <td>2024.05.14</td>\n",
       "      <td>서류 ,면접</td>\n",
       "      <td>기타( 이메일 접수 (gajwawebmaster@gmail.com) )</td>\n",
       "    </tr>\n",
       "  </tbody>\n",
       "</table>\n",
       "</div>"
      ],
      "text/plain": [
       "                                                구인제목                     사업장명  \\\n",
       "0                      강남구립 역삼노인요양센터 직원(사회복지사) 채용 공고  구립 역삼노인복지센터 부설 역삼노인요양센터   \n",
       "1  [제2024-23호] 시립은평의마을 직원 채용 공고(계약직 생활복지사)(’24.5....              서울특별시립은평의마을   \n",
       "2                                      연장반(영아) 교사 모집               국공립 동화어린이집   \n",
       "3                           [원효로3가] 영아반 연장보육 전담교사 모집                   원효어린이집   \n",
       "4               (재공고) 서대문구 서울형 키즈카페 북가좌1동점 종사자 채용 공고                   가좌제일교회   \n",
       "\n",
       "     업종             직종 채용인원                                      근무지역  \\\n",
       "0  사회복지          사회복지사   1명       서울특별시 강남구 도곡로27길 27  (역삼동) 역삼노인요양센터   \n",
       "1  사회복지  사회복지사(사회복지시설)   1명        서울특별시 은평구 갈현로15길 27 -1 (구산동) 은평의마을   \n",
       "2  사회복지          보육 교사   1명     서울특별시 중구 청구로 64  (신당동) 106동 1층 동화어린이집   \n",
       "3  사회복지          보육 교사   1명  서울특별시 용산구 원효로41가길 14 -19 (원효로3가) (원효로3가)   \n",
       "4  사회복지    기타 사회복지 종사원   1명     서울특별시 서대문구 수색로8길 48 -4 (북가좌동) 3층 키즈카페   \n",
       "\n",
       "                                                근무내용 경력조건 필요경력  \\\n",
       "0  이용 어르신 관리 및 상담, 장기요양수가 청구, 프로그램 진행 등 장기요양시설 사회...   무관  NaN   \n",
       "1  프로그램, 상담, 사무업무 등\\n\\r\\n*근무시간/스케줄에 따라 4교대\\r\\nA조-...   무관  NaN   \n",
       "2  안녕하십니까! 국공립 동화어린이집입니다. 본 어린이집에서는 영유아를 존중하고 사랑하...   무관  NaN   \n",
       "3  [영아반 연장보육 전담교사 모집 ]\\n\\r\\n- 직무 : 야간연장 교사와 함께 영아...   무관  NaN   \n",
       "4  서울형 키즈카페 북가좌1동점 운영요원 1명 채용 \\r\\n- 시설 예산 집행 및 이용...   무관  NaN   \n",
       "\n",
       "                                                  급여         근무시간 근무형태  \\\n",
       "0                                         (월급) 220만원  09:00~18:00   주간   \n",
       "1                                         (월급) 234만원     채용공고문 참조  3교대   \n",
       "2  (월급) 106만원\\r\\n\\t\\t\\t\\t\\t\\t\\t\\t\\r\\n\\t\\t\\t\\t\\t\\t...  15:00~19:30   주간   \n",
       "3                                         (월급) 106만원  15:00~19:30   주간   \n",
       "4                                      (최소연봉) 2500만원   9:00~18:00   주간   \n",
       "\n",
       "           접수마감          전형방법  \\\n",
       "0    2024.05.07        서류 ,면접   \n",
       "1    2024.05.16  서류 ,면접 ,신체검사   \n",
       "2  채용시까지(2개월이내)        서류 ,면접   \n",
       "3  채용시까지(2개월이내)        서류 ,면접   \n",
       "4    2024.05.14        서류 ,면접   \n",
       "\n",
       "                                                지원방법  \n",
       "0     온라인,방문,우편,팩스,기타( 이메일 지원 yssenior@hanmail.net )  \n",
       "1  기타( 채용공고문 확인 후 우편 또는 이메일 접수((hjpark119@bizmeka...  \n",
       "2             전자우편,기타( 이메일   donghwa2234@naver.com )  \n",
       "3                                               전자우편  \n",
       "4            기타( 이메일 접수 (gajwawebmaster@gmail.com) )  "
      ]
     },
     "execution_count": 38,
     "metadata": {},
     "output_type": "execute_result"
    }
   ],
   "source": [
    "df2.head()"
   ]
  },
  {
   "cell_type": "code",
   "execution_count": 39,
   "metadata": {},
   "outputs": [],
   "source": [
    "df.to_csv('민간일자리정보_정리.csv', index=False)\n",
    "df2.to_csv('포털일자리정보_정리.csv', index=False)"
   ]
  },
  {
   "cell_type": "code",
   "execution_count": 43,
   "metadata": {},
   "outputs": [
    {
     "data": {
      "text/plain": [
       "(2006, 142)"
      ]
     },
     "execution_count": 43,
     "metadata": {},
     "output_type": "execute_result"
    }
   ],
   "source": [
    "len(df), len(df2)"
   ]
  },
  {
   "cell_type": "code",
   "execution_count": 41,
   "metadata": {},
   "outputs": [
    {
     "data": {
      "text/plain": [
       "2148"
      ]
     },
     "execution_count": 41,
     "metadata": {},
     "output_type": "execute_result"
    }
   ],
   "source": [
    "result_df = pd.concat([df, df2], axis=0, ignore_index=True, join='outer')\n",
    "len(result_df)"
   ]
  },
  {
   "cell_type": "code",
   "execution_count": 42,
   "metadata": {},
   "outputs": [],
   "source": [
    "result_df.to_csv('일자리정보_정리.csv', index=False)"
   ]
  },
  {
   "cell_type": "markdown",
   "metadata": {},
   "source": [
    "1000건으로 데이터 끊기"
   ]
  },
  {
   "cell_type": "code",
   "execution_count": 54,
   "metadata": {},
   "outputs": [
    {
     "data": {
      "text/plain": [
       "858"
      ]
     },
     "execution_count": 54,
     "metadata": {},
     "output_type": "execute_result"
    }
   ],
   "source": [
    "public_jobs = df[df['종류'] == '공공']\n",
    "private_jobs = df[df['종류'] == '민간']\n",
    "needed_private_jobs = 858 - len(public_jobs)\n",
    "selected_private_jobs = private_jobs.head(needed_private_jobs)\n",
    "df_reduced = pd.concat([public_jobs, selected_private_jobs], ignore_index=True)\n",
    "len(df_reduced)"
   ]
  },
  {
   "cell_type": "code",
   "execution_count": 55,
   "metadata": {},
   "outputs": [
    {
     "data": {
      "text/plain": [
       "1000"
      ]
     },
     "execution_count": 55,
     "metadata": {},
     "output_type": "execute_result"
    }
   ],
   "source": [
    "result_df_small = pd.concat([df_reduced, df2], axis=0, ignore_index=True, join='outer')\n",
    "len(result_df_small)"
   ]
  },
  {
   "cell_type": "code",
   "execution_count": 56,
   "metadata": {},
   "outputs": [],
   "source": [
    "result_df_small.to_csv('일자리정보_정리_1000건.csv', index=False)"
   ]
  },
  {
   "cell_type": "code",
   "execution_count": 57,
   "metadata": {},
   "outputs": [
    {
     "name": "stdout",
     "output_type": "stream",
     "text": [
      "<class 'pandas.core.frame.DataFrame'>\n",
      "RangeIndex: 1000 entries, 0 to 999\n",
      "Data columns (total 20 columns):\n",
      " #   Column  Non-Null Count  Dtype \n",
      "---  ------  --------------  ----- \n",
      " 0   구인상태    858 non-null    object\n",
      " 1   사업장명    1000 non-null   object\n",
      " 2   근무지역    1000 non-null   object\n",
      " 3   직종      1000 non-null   object\n",
      " 4   연령      858 non-null    object\n",
      " 5   성별      858 non-null    object\n",
      " 6   급여      1000 non-null   object\n",
      " 7   근무시간    457 non-null    object\n",
      " 8   채용인원    1000 non-null   object\n",
      " 9   근무내용    1000 non-null   object\n",
      " 10  지원방법    1000 non-null   object\n",
      " 11  지원서류    45 non-null     object\n",
      " 12  업종      142 non-null    object\n",
      " 13  종류      858 non-null    object\n",
      " 14  구인제목    1000 non-null   object\n",
      " 15  근무형태    776 non-null    object\n",
      " 16  경력조건    1000 non-null   object\n",
      " 17  접수마감    1000 non-null   object\n",
      " 18  필요경력    27 non-null     object\n",
      " 19  전형방법    138 non-null    object\n",
      "dtypes: object(20)\n",
      "memory usage: 156.4+ KB\n"
     ]
    }
   ],
   "source": [
    "result_df_small.info()"
   ]
  }
 ],
 "metadata": {
  "kernelspec": {
   "display_name": "base",
   "language": "python",
   "name": "python3"
  },
  "language_info": {
   "codemirror_mode": {
    "name": "ipython",
    "version": 3
   },
   "file_extension": ".py",
   "mimetype": "text/x-python",
   "name": "python",
   "nbconvert_exporter": "python",
   "pygments_lexer": "ipython3",
   "version": "3.10.13"
  }
 },
 "nbformat": 4,
 "nbformat_minor": 2
}
